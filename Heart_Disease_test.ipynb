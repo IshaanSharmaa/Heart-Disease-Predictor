{
 "cells": [
  {
   "cell_type": "code",
   "execution_count": 109,
   "metadata": {},
   "outputs": [],
   "source": [
    "import joblib\n",
    "\n",
    "clf = joblib.load(\"Heart Disease Predictor.joblib\")"
   ]
  },
  {
   "cell_type": "code",
   "execution_count": 110,
   "metadata": {},
   "outputs": [
    {
     "data": {
      "text/html": [
       "<style>#sk-container-id-2 {color: black;background-color: white;}#sk-container-id-2 pre{padding: 0;}#sk-container-id-2 div.sk-toggleable {background-color: white;}#sk-container-id-2 label.sk-toggleable__label {cursor: pointer;display: block;width: 100%;margin-bottom: 0;padding: 0.3em;box-sizing: border-box;text-align: center;}#sk-container-id-2 label.sk-toggleable__label-arrow:before {content: \"▸\";float: left;margin-right: 0.25em;color: #696969;}#sk-container-id-2 label.sk-toggleable__label-arrow:hover:before {color: black;}#sk-container-id-2 div.sk-estimator:hover label.sk-toggleable__label-arrow:before {color: black;}#sk-container-id-2 div.sk-toggleable__content {max-height: 0;max-width: 0;overflow: hidden;text-align: left;background-color: #f0f8ff;}#sk-container-id-2 div.sk-toggleable__content pre {margin: 0.2em;color: black;border-radius: 0.25em;background-color: #f0f8ff;}#sk-container-id-2 input.sk-toggleable__control:checked~div.sk-toggleable__content {max-height: 200px;max-width: 100%;overflow: auto;}#sk-container-id-2 input.sk-toggleable__control:checked~label.sk-toggleable__label-arrow:before {content: \"▾\";}#sk-container-id-2 div.sk-estimator input.sk-toggleable__control:checked~label.sk-toggleable__label {background-color: #d4ebff;}#sk-container-id-2 div.sk-label input.sk-toggleable__control:checked~label.sk-toggleable__label {background-color: #d4ebff;}#sk-container-id-2 input.sk-hidden--visually {border: 0;clip: rect(1px 1px 1px 1px);clip: rect(1px, 1px, 1px, 1px);height: 1px;margin: -1px;overflow: hidden;padding: 0;position: absolute;width: 1px;}#sk-container-id-2 div.sk-estimator {font-family: monospace;background-color: #f0f8ff;border: 1px dotted black;border-radius: 0.25em;box-sizing: border-box;margin-bottom: 0.5em;}#sk-container-id-2 div.sk-estimator:hover {background-color: #d4ebff;}#sk-container-id-2 div.sk-parallel-item::after {content: \"\";width: 100%;border-bottom: 1px solid gray;flex-grow: 1;}#sk-container-id-2 div.sk-label:hover label.sk-toggleable__label {background-color: #d4ebff;}#sk-container-id-2 div.sk-serial::before {content: \"\";position: absolute;border-left: 1px solid gray;box-sizing: border-box;top: 0;bottom: 0;left: 50%;z-index: 0;}#sk-container-id-2 div.sk-serial {display: flex;flex-direction: column;align-items: center;background-color: white;padding-right: 0.2em;padding-left: 0.2em;position: relative;}#sk-container-id-2 div.sk-item {position: relative;z-index: 1;}#sk-container-id-2 div.sk-parallel {display: flex;align-items: stretch;justify-content: center;background-color: white;position: relative;}#sk-container-id-2 div.sk-item::before, #sk-container-id-2 div.sk-parallel-item::before {content: \"\";position: absolute;border-left: 1px solid gray;box-sizing: border-box;top: 0;bottom: 0;left: 50%;z-index: -1;}#sk-container-id-2 div.sk-parallel-item {display: flex;flex-direction: column;z-index: 1;position: relative;background-color: white;}#sk-container-id-2 div.sk-parallel-item:first-child::after {align-self: flex-end;width: 50%;}#sk-container-id-2 div.sk-parallel-item:last-child::after {align-self: flex-start;width: 50%;}#sk-container-id-2 div.sk-parallel-item:only-child::after {width: 0;}#sk-container-id-2 div.sk-dashed-wrapped {border: 1px dashed gray;margin: 0 0.4em 0.5em 0.4em;box-sizing: border-box;padding-bottom: 0.4em;background-color: white;}#sk-container-id-2 div.sk-label label {font-family: monospace;font-weight: bold;display: inline-block;line-height: 1.2em;}#sk-container-id-2 div.sk-label-container {text-align: center;}#sk-container-id-2 div.sk-container {/* jupyter's `normalize.less` sets `[hidden] { display: none; }` but bootstrap.min.css set `[hidden] { display: none !important; }` so we also need the `!important` here to be able to override the default hidden behavior on the sphinx rendered scikit-learn.org. See: https://github.com/scikit-learn/scikit-learn/issues/21755 */display: inline-block !important;position: relative;}#sk-container-id-2 div.sk-text-repr-fallback {display: none;}</style><div id=\"sk-container-id-2\" class=\"sk-top-container\"><div class=\"sk-text-repr-fallback\"><pre>LogisticRegression(C=1.623776739188721, solver=&#x27;liblinear&#x27;)</pre><b>In a Jupyter environment, please rerun this cell to show the HTML representation or trust the notebook. <br />On GitHub, the HTML representation is unable to render, please try loading this page with nbviewer.org.</b></div><div class=\"sk-container\" hidden><div class=\"sk-item\"><div class=\"sk-estimator sk-toggleable\"><input class=\"sk-toggleable__control sk-hidden--visually\" id=\"sk-estimator-id-2\" type=\"checkbox\" checked><label for=\"sk-estimator-id-2\" class=\"sk-toggleable__label sk-toggleable__label-arrow\">LogisticRegression</label><div class=\"sk-toggleable__content\"><pre>LogisticRegression(C=1.623776739188721, solver=&#x27;liblinear&#x27;)</pre></div></div></div></div></div>"
      ],
      "text/plain": [
       "LogisticRegression(C=1.623776739188721, solver='liblinear')"
      ]
     },
     "execution_count": 110,
     "metadata": {},
     "output_type": "execute_result"
    }
   ],
   "source": [
    "clf"
   ]
  },
  {
   "cell_type": "code",
   "execution_count": 111,
   "metadata": {},
   "outputs": [
    {
     "data": {
      "application/vnd.jupyter.widget-view+json": {
       "model_id": "96a1057e028a4de7b6bfaf9e7bb0457e",
       "version_major": 2,
       "version_minor": 0
      },
      "text/plain": [
       "IntSlider(value=0, description='Age: ', style=SliderStyle(description_width='initial'))"
      ]
     },
     "metadata": {},
     "output_type": "display_data"
    },
    {
     "data": {
      "application/vnd.jupyter.widget-view+json": {
       "model_id": "5c4c17fd32ff4cc1a54e30b0cf6b1a74",
       "version_major": 2,
       "version_minor": 0
      },
      "text/plain": [
       "Select(description='Sex', options=('Male', 'Female'), style=DescriptionStyle(description_width='initial'), val…"
      ]
     },
     "metadata": {},
     "output_type": "display_data"
    },
    {
     "data": {
      "application/vnd.jupyter.widget-view+json": {
       "model_id": "0a06a01b48d9486dbbad9a08ee87e444",
       "version_major": 2,
       "version_minor": 0
      },
      "text/plain": [
       "Select(description='Chest Pain', options=('Typical Angina', 'Atypical Angina', 'Non - Anginal Pain', 'Asymptom…"
      ]
     },
     "metadata": {},
     "output_type": "display_data"
    },
    {
     "data": {
      "application/vnd.jupyter.widget-view+json": {
       "model_id": "6b373637852f4efca0da3a60eb00bb88",
       "version_major": 2,
       "version_minor": 0
      },
      "text/plain": [
       "IntSlider(value=0, description='Resting BP: ', max=200, style=SliderStyle(description_width='initial'))"
      ]
     },
     "metadata": {},
     "output_type": "display_data"
    },
    {
     "data": {
      "application/vnd.jupyter.widget-view+json": {
       "model_id": "9639b661d84e4f15b980db9afce4c116",
       "version_major": 2,
       "version_minor": 0
      },
      "text/plain": [
       "IntSlider(value=0, description='Cholestrol', max=600, style=SliderStyle(description_width='initial'))"
      ]
     },
     "metadata": {},
     "output_type": "display_data"
    },
    {
     "data": {
      "application/vnd.jupyter.widget-view+json": {
       "model_id": "a3726c75feec43cdb72ee7d3b24c2fc7",
       "version_major": 2,
       "version_minor": 0
      },
      "text/plain": [
       "Select(description='Fasting Blood Sugar > 120 ', options=('True', 'False'), style=DescriptionStyle(description…"
      ]
     },
     "metadata": {},
     "output_type": "display_data"
    },
    {
     "data": {
      "application/vnd.jupyter.widget-view+json": {
       "model_id": "2ff040c9905e4692b37b72ee5346c04b",
       "version_major": 2,
       "version_minor": 0
      },
      "text/plain": [
       "Select(description='Resting ECG', options=('Normal', 'Having ST-T', 'Hypertrophy'), value='Normal')"
      ]
     },
     "metadata": {},
     "output_type": "display_data"
    },
    {
     "data": {
      "application/vnd.jupyter.widget-view+json": {
       "model_id": "26c48b1b6f304bccb04d0c070d5b3488",
       "version_major": 2,
       "version_minor": 0
      },
      "text/plain": [
       "IntSlider(value=0, description='Heartrate(max)', max=300, style=SliderStyle(description_width='initial'))"
      ]
     },
     "metadata": {},
     "output_type": "display_data"
    },
    {
     "data": {
      "application/vnd.jupyter.widget-view+json": {
       "model_id": "8edc0be6c74c4844bf222c250d34a65c",
       "version_major": 2,
       "version_minor": 0
      },
      "text/plain": [
       "Select(description='Angina during Exercise', options=('Yes', 'No'), style=DescriptionStyle(description_width='…"
      ]
     },
     "metadata": {},
     "output_type": "display_data"
    },
    {
     "data": {
      "application/vnd.jupyter.widget-view+json": {
       "model_id": "68c0d401a83345f8b6081cbfc17b9cd4",
       "version_major": 2,
       "version_minor": 0
      },
      "text/plain": [
       "FloatSlider(value=0.0, description='ST depression', max=7.0, style=SliderStyle(description_width='initial'))"
      ]
     },
     "metadata": {},
     "output_type": "display_data"
    },
    {
     "data": {
      "application/vnd.jupyter.widget-view+json": {
       "model_id": "b3e782ec15b941df86f39f5443f791ab",
       "version_major": 2,
       "version_minor": 0
      },
      "text/plain": [
       "Select(description='Slope (of peak ST segment)', options=('Upsloping', 'Flat', 'Downsloping'), style=Descripti…"
      ]
     },
     "metadata": {},
     "output_type": "display_data"
    },
    {
     "data": {
      "application/vnd.jupyter.widget-view+json": {
       "model_id": "b90bee4a79cb4d2da326336966dc51bf",
       "version_major": 2,
       "version_minor": 0
      },
      "text/plain": [
       "IntSlider(value=0, description='Number of major vessels', max=3, style=SliderStyle(description_width='initial'…"
      ]
     },
     "metadata": {},
     "output_type": "display_data"
    },
    {
     "data": {
      "application/vnd.jupyter.widget-view+json": {
       "model_id": "33a8ed94135c4ab983c304c3c31c1298",
       "version_major": 2,
       "version_minor": 0
      },
      "text/plain": [
       "Select(description='Type of defect', options=('Normal', 'Fixed Defect', 'Reversable Defect'), style=Descriptio…"
      ]
     },
     "metadata": {},
     "output_type": "display_data"
    },
    {
     "data": {
      "application/vnd.jupyter.widget-view+json": {
       "model_id": "90d54f4328b74521a3667fb72d3b7670",
       "version_major": 2,
       "version_minor": 0
      },
      "text/plain": [
       "Button(description='Done', style=ButtonStyle())"
      ]
     },
     "metadata": {},
     "output_type": "display_data"
    }
   ],
   "source": [
    "import ipywidgets as widgets\n",
    "from IPython.display import clear_output\n",
    "\n",
    "style = {\"description_width\": \"initial\",}\n",
    "\n",
    "age = widgets.IntSlider(\n",
    "    value = 0,\n",
    "    min = 0,\n",
    "    max = 100,\n",
    "    step = 1,\n",
    "    description = \"Age: \", style = style\n",
    "\n",
    ")\n",
    "\n",
    "sex_w = widgets.Select(\n",
    "    options = [\"Male\", \"Female\"],\n",
    "    description = \"Sex\",\n",
    "    style = style\n",
    ")\n",
    "\n",
    "chest_pain_w = widgets.Select(\n",
    "    options = [\n",
    "        \"Typical Angina\",\n",
    "        \"Atypical Angina\",\n",
    "        \"Non - Anginal Pain\",\n",
    "        \"Asymptomatic\"\n",
    "    ],\n",
    "    description = \"Chest Pain\",\n",
    "    style = style\n",
    ")\n",
    "\n",
    "trestbps = widgets.IntSlider(\n",
    "    value = 0,\n",
    "    max = 200,\n",
    "    min = 0,\n",
    "    step = 1,\n",
    "    description = \"Resting BP: \",\n",
    "    style = style\n",
    ")\n",
    "\n",
    "chol = widgets.IntSlider(\n",
    "    value = 0,\n",
    "    max = 600,\n",
    "    min = 0,\n",
    "    step = 1,\n",
    "    description =\"Cholestrol\",\n",
    "    style = style\n",
    ")\n",
    "\n",
    "fbs_w = widgets.Select(\n",
    "    options = [\"True\", \"False\"],\n",
    "    description = \"Fasting Blood Sugar > 120 \",\n",
    "    style = style\n",
    ")\n",
    "\n",
    "restecg_w = widgets.Select(\n",
    "    options = [\"Normal\", \"Having ST-T\", \"Hypertrophy\"],\n",
    "    description = \"Resting ECG\",\n",
    "\n",
    ")\n",
    "\n",
    "thalach = widgets.IntSlider(\n",
    "    value = 0,\n",
    "    min = 0,\n",
    "    max = 300,\n",
    "    step = 1,\n",
    "    description = \"Heartrate(max)\",\n",
    "    style = style\n",
    "\n",
    ")\n",
    "\n",
    "exang_w = widgets.Select(\n",
    "    options = [\"Yes\", \"No\"],\n",
    "    description = \"Angina during Exercise\",\n",
    "    style = style\n",
    ")\n",
    "\n",
    "oldpeak = widgets.FloatSlider(\n",
    "    value = 0,\n",
    "    min = 0,\n",
    "    max = 7,\n",
    "    step = 0.1,\n",
    "    description = \"ST depression\",\n",
    "    style = style\n",
    ")\n",
    "\n",
    "slope_w = widgets.Select(\n",
    "    options = [\"Upsloping\", \"Flat\", \"Downsloping\"],\n",
    "    description = \"Slope (of peak ST segment)\",\n",
    "    style = style\n",
    ")\n",
    "\n",
    "ca = widgets.IntSlider(\n",
    "    value = 0,\n",
    "    min = 0,\n",
    "    max = 3,\n",
    "    step = 1,\n",
    "    description = \"Number of major vessels\",\n",
    "    style = style\n",
    ")\n",
    "\n",
    "thal_w = widgets.Select(\n",
    "    options = [\"Normal\", \"Fixed Defect\", \"Reversable Defect\"],\n",
    "    description = \"Type of defect\",\n",
    "    style = style\n",
    ")\n",
    "\n",
    "button = widgets.Button(\n",
    "    description = \"Done\"\n",
    ")\n",
    "\n",
    "display(age)\n",
    "display(sex_w)\n",
    "display(chest_pain_w)\n",
    "display(trestbps)\n",
    "display(chol)\n",
    "display(fbs_w)\n",
    "display(restecg_w)\n",
    "display(thalach)\n",
    "display(exang_w)\n",
    "display(oldpeak)\n",
    "display(slope_w)\n",
    "display(ca)\n",
    "display(thal_w)\n",
    "display(button)\n",
    "\n",
    "\n",
    "sex = {\n",
    "    \"Male\" : 1,\n",
    "    \"Female\" : 0\n",
    "}\n",
    "\n",
    "chest_pain = {\n",
    "    \"Typical Angina\": 0,\n",
    "    \"Atypical Angina\": 1,\n",
    "    \"Non - Anginal Pain\": 2,\n",
    "    \"Asymptomatic\": 3\n",
    "}\n",
    "\n",
    "fbs = {\n",
    "    \"True\": 1,\n",
    "    \"False\": 0\n",
    "}\n",
    "\n",
    "restecg = {\n",
    "    \"Normal\": 0,\n",
    "    \"Having ST-T\": 1,\n",
    "    \"Hypertrophy\": 2\n",
    "}    \n",
    "\n",
    "exang = {\n",
    "    \"Yes\": 1,\n",
    "    \"No\": 0\n",
    "}\n",
    "\n",
    "slope = {\n",
    "    \"Upsloping\": 1,\n",
    "    \"Flat\": 2,\n",
    "    \"Downsloping\": 3\n",
    "}\n",
    "\n",
    "thal = {\n",
    "    \"Normal\": 3,\n",
    "    \"Fixed Defect\": 6,\n",
    "    \"Reversable Defect\": 7\n",
    "}\n",
    "\n",
    "def prediction(a):\n",
    "    test_df = pd.DataFrame([[age.value, sex[sex_w.value], chest_pain[chest_pain_w.value], trestbps.value, chol.value,\n",
    "     fbs[fbs_w.value], restecg[restecg_w.value], thalach.value, exang[exang_w.value], oldpeak.value, slope[slope_w.value], \n",
    "     ca.value, thal[thal_w.value] ]])\n",
    "    print(test_df)\n",
    "    \n",
    "    c = clf.predict(test_df)[0]\n",
    "    clear_output()\n",
    "\n",
    "    \n",
    "    if c == 1:\n",
    "        print(\"You have heart disease\")\n",
    "    else: \n",
    "        print(\"You dont have heart disease\")\n",
    "    \n",
    "button.on_click(prediction)\n",
    "\n"
   ]
  }
 ],
 "metadata": {
  "kernelspec": {
   "display_name": "Python 3.10.5 64-bit",
   "language": "python",
   "name": "python3"
  },
  "language_info": {
   "codemirror_mode": {
    "name": "ipython",
    "version": 3
   },
   "file_extension": ".py",
   "mimetype": "text/x-python",
   "name": "python",
   "nbconvert_exporter": "python",
   "pygments_lexer": "ipython3",
   "version": "3.10.5"
  },
  "orig_nbformat": 4,
  "vscode": {
   "interpreter": {
    "hash": "5bceec554de280a03412a6f09a63c4022cb2fe8fc3df3020533e7e5739cca0ff"
   }
  }
 },
 "nbformat": 4,
 "nbformat_minor": 2
}
